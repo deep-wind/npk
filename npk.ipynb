{
 "cells": [
  {
   "cell_type": "code",
   "execution_count": 1,
   "id": "76434530",
   "metadata": {},
   "outputs": [],
   "source": [
    "import numpy as np\n",
    "import pandas as pd\n",
    "\n",
    "import random\n",
    "from sklearn.model_selection import train_test_split\n",
    "from sklearn.linear_model import LogisticRegression\n",
    "from sklearn.linear_model import SGDClassifier\n",
    "\n",
    "from sklearn.preprocessing import LabelEncoder\n",
    "from keras.utils import to_categorical\n",
    "\n",
    "from sklearn.preprocessing import StandardScaler\n",
    "import pickle\n"
   ]
  },
  {
   "cell_type": "code",
   "execution_count": 2,
   "id": "59b3d923",
   "metadata": {},
   "outputs": [
    {
     "data": {
      "text/html": [
       "<div>\n",
       "<style scoped>\n",
       "    .dataframe tbody tr th:only-of-type {\n",
       "        vertical-align: middle;\n",
       "    }\n",
       "\n",
       "    .dataframe tbody tr th {\n",
       "        vertical-align: top;\n",
       "    }\n",
       "\n",
       "    .dataframe thead th {\n",
       "        text-align: right;\n",
       "    }\n",
       "</style>\n",
       "<table border=\"1\" class=\"dataframe\">\n",
       "  <thead>\n",
       "    <tr style=\"text-align: right;\">\n",
       "      <th></th>\n",
       "      <th>N</th>\n",
       "      <th>P</th>\n",
       "      <th>K</th>\n",
       "      <th>LABEL</th>\n",
       "    </tr>\n",
       "  </thead>\n",
       "  <tbody>\n",
       "    <tr>\n",
       "      <th>0</th>\n",
       "      <td>80</td>\n",
       "      <td>77</td>\n",
       "      <td>73</td>\n",
       "      <td>Beans</td>\n",
       "    </tr>\n",
       "    <tr>\n",
       "      <th>1</th>\n",
       "      <td>63</td>\n",
       "      <td>73</td>\n",
       "      <td>74</td>\n",
       "      <td>Beans</td>\n",
       "    </tr>\n",
       "    <tr>\n",
       "      <th>2</th>\n",
       "      <td>85</td>\n",
       "      <td>61</td>\n",
       "      <td>78</td>\n",
       "      <td>Beans</td>\n",
       "    </tr>\n",
       "    <tr>\n",
       "      <th>3</th>\n",
       "      <td>116</td>\n",
       "      <td>59</td>\n",
       "      <td>54</td>\n",
       "      <td>Beans</td>\n",
       "    </tr>\n",
       "    <tr>\n",
       "      <th>4</th>\n",
       "      <td>96</td>\n",
       "      <td>64</td>\n",
       "      <td>69</td>\n",
       "      <td>Beans</td>\n",
       "    </tr>\n",
       "    <tr>\n",
       "      <th>...</th>\n",
       "      <td>...</td>\n",
       "      <td>...</td>\n",
       "      <td>...</td>\n",
       "      <td>...</td>\n",
       "    </tr>\n",
       "    <tr>\n",
       "      <th>445</th>\n",
       "      <td>118</td>\n",
       "      <td>47</td>\n",
       "      <td>77</td>\n",
       "      <td>Watermelon</td>\n",
       "    </tr>\n",
       "    <tr>\n",
       "      <th>446</th>\n",
       "      <td>157</td>\n",
       "      <td>57</td>\n",
       "      <td>66</td>\n",
       "      <td>Watermelon</td>\n",
       "    </tr>\n",
       "    <tr>\n",
       "      <th>447</th>\n",
       "      <td>144</td>\n",
       "      <td>43</td>\n",
       "      <td>77</td>\n",
       "      <td>Watermelon</td>\n",
       "    </tr>\n",
       "    <tr>\n",
       "      <th>448</th>\n",
       "      <td>148</td>\n",
       "      <td>47</td>\n",
       "      <td>61</td>\n",
       "      <td>Watermelon</td>\n",
       "    </tr>\n",
       "    <tr>\n",
       "      <th>449</th>\n",
       "      <td>109</td>\n",
       "      <td>58</td>\n",
       "      <td>61</td>\n",
       "      <td>Watermelon</td>\n",
       "    </tr>\n",
       "  </tbody>\n",
       "</table>\n",
       "<p>450 rows × 4 columns</p>\n",
       "</div>"
      ],
      "text/plain": [
       "       N   P   K       LABEL\n",
       "0     80  77  73       Beans\n",
       "1     63  73  74       Beans\n",
       "2     85  61  78       Beans\n",
       "3    116  59  54       Beans\n",
       "4     96  64  69       Beans\n",
       "..   ...  ..  ..         ...\n",
       "445  118  47  77  Watermelon\n",
       "446  157  57  66  Watermelon\n",
       "447  144  43  77  Watermelon\n",
       "448  148  47  61  Watermelon\n",
       "449  109  58  61  Watermelon\n",
       "\n",
       "[450 rows x 4 columns]"
      ]
     },
     "execution_count": 2,
     "metadata": {},
     "output_type": "execute_result"
    }
   ],
   "source": [
    "dataset = pd.read_csv(r\"npk_new.csv\")\n",
    "dataset"
   ]
  },
  {
   "cell_type": "code",
   "execution_count": 3,
   "id": "bcae44c8",
   "metadata": {},
   "outputs": [
    {
     "data": {
      "text/plain": [
       "['Beans',\n",
       " 'Brinjal',\n",
       " 'Cabbage',\n",
       " 'Carrot',\n",
       " 'Cauliflower',\n",
       " 'Chilli',\n",
       " 'Cowpea',\n",
       " 'Cucumber',\n",
       " 'Garden pea',\n",
       " 'Garlic',\n",
       " 'Lettuce',\n",
       " 'Okra',\n",
       " 'Onion',\n",
       " 'Potato',\n",
       " 'Snap bean',\n",
       " 'Spinach',\n",
       " 'Tomato',\n",
       " 'Watermelon']"
      ]
     },
     "execution_count": 3,
     "metadata": {},
     "output_type": "execute_result"
    }
   ],
   "source": [
    "labels = dataset['LABEL'].unique().tolist()\n",
    "labels.sort()\n",
    "labels"
   ]
  },
  {
   "cell_type": "code",
   "execution_count": 4,
   "id": "240ef7c9",
   "metadata": {},
   "outputs": [],
   "source": [
    "le = LabelEncoder()\n",
    "le.fit(dataset['LABEL'])\n",
    "dataset['LABEL']=le.transform(dataset['LABEL'])"
   ]
  },
  {
   "cell_type": "code",
   "execution_count": 5,
   "id": "a2355a77",
   "metadata": {},
   "outputs": [
    {
     "data": {
      "text/html": [
       "<div>\n",
       "<style scoped>\n",
       "    .dataframe tbody tr th:only-of-type {\n",
       "        vertical-align: middle;\n",
       "    }\n",
       "\n",
       "    .dataframe tbody tr th {\n",
       "        vertical-align: top;\n",
       "    }\n",
       "\n",
       "    .dataframe thead th {\n",
       "        text-align: right;\n",
       "    }\n",
       "</style>\n",
       "<table border=\"1\" class=\"dataframe\">\n",
       "  <thead>\n",
       "    <tr style=\"text-align: right;\">\n",
       "      <th></th>\n",
       "      <th>N</th>\n",
       "      <th>P</th>\n",
       "      <th>K</th>\n",
       "      <th>LABEL</th>\n",
       "    </tr>\n",
       "  </thead>\n",
       "  <tbody>\n",
       "    <tr>\n",
       "      <th>0</th>\n",
       "      <td>80</td>\n",
       "      <td>77</td>\n",
       "      <td>73</td>\n",
       "      <td>0</td>\n",
       "    </tr>\n",
       "    <tr>\n",
       "      <th>1</th>\n",
       "      <td>63</td>\n",
       "      <td>73</td>\n",
       "      <td>74</td>\n",
       "      <td>0</td>\n",
       "    </tr>\n",
       "    <tr>\n",
       "      <th>2</th>\n",
       "      <td>85</td>\n",
       "      <td>61</td>\n",
       "      <td>78</td>\n",
       "      <td>0</td>\n",
       "    </tr>\n",
       "    <tr>\n",
       "      <th>3</th>\n",
       "      <td>116</td>\n",
       "      <td>59</td>\n",
       "      <td>54</td>\n",
       "      <td>0</td>\n",
       "    </tr>\n",
       "    <tr>\n",
       "      <th>4</th>\n",
       "      <td>96</td>\n",
       "      <td>64</td>\n",
       "      <td>69</td>\n",
       "      <td>0</td>\n",
       "    </tr>\n",
       "    <tr>\n",
       "      <th>...</th>\n",
       "      <td>...</td>\n",
       "      <td>...</td>\n",
       "      <td>...</td>\n",
       "      <td>...</td>\n",
       "    </tr>\n",
       "    <tr>\n",
       "      <th>445</th>\n",
       "      <td>118</td>\n",
       "      <td>47</td>\n",
       "      <td>77</td>\n",
       "      <td>17</td>\n",
       "    </tr>\n",
       "    <tr>\n",
       "      <th>446</th>\n",
       "      <td>157</td>\n",
       "      <td>57</td>\n",
       "      <td>66</td>\n",
       "      <td>17</td>\n",
       "    </tr>\n",
       "    <tr>\n",
       "      <th>447</th>\n",
       "      <td>144</td>\n",
       "      <td>43</td>\n",
       "      <td>77</td>\n",
       "      <td>17</td>\n",
       "    </tr>\n",
       "    <tr>\n",
       "      <th>448</th>\n",
       "      <td>148</td>\n",
       "      <td>47</td>\n",
       "      <td>61</td>\n",
       "      <td>17</td>\n",
       "    </tr>\n",
       "    <tr>\n",
       "      <th>449</th>\n",
       "      <td>109</td>\n",
       "      <td>58</td>\n",
       "      <td>61</td>\n",
       "      <td>17</td>\n",
       "    </tr>\n",
       "  </tbody>\n",
       "</table>\n",
       "<p>450 rows × 4 columns</p>\n",
       "</div>"
      ],
      "text/plain": [
       "       N   P   K  LABEL\n",
       "0     80  77  73      0\n",
       "1     63  73  74      0\n",
       "2     85  61  78      0\n",
       "3    116  59  54      0\n",
       "4     96  64  69      0\n",
       "..   ...  ..  ..    ...\n",
       "445  118  47  77     17\n",
       "446  157  57  66     17\n",
       "447  144  43  77     17\n",
       "448  148  47  61     17\n",
       "449  109  58  61     17\n",
       "\n",
       "[450 rows x 4 columns]"
      ]
     },
     "execution_count": 5,
     "metadata": {},
     "output_type": "execute_result"
    }
   ],
   "source": [
    "dataset"
   ]
  },
  {
   "cell_type": "code",
   "execution_count": 6,
   "id": "257f0522",
   "metadata": {},
   "outputs": [],
   "source": [
    "scaler = StandardScaler()\n",
    "#scaler.fit(X)\n",
    "dataset.iloc[0:,:-1] =scaler.fit_transform(dataset.iloc[0:,:-1]) "
   ]
  },
  {
   "cell_type": "code",
   "execution_count": 7,
   "id": "76269afe",
   "metadata": {},
   "outputs": [
    {
     "name": "stdout",
     "output_type": "stream",
     "text": [
      "[[-1.20811989  0.85803423  0.20411868]\n",
      " [-1.59507841  0.56010568  0.26605625]\n",
      " [-1.09430857 -0.33367998  0.5138065 ]\n",
      " ...\n",
      " [ 0.24866511 -1.67435847  0.45186894]\n",
      " [ 0.33971417 -1.37642992 -0.53913208]\n",
      " [-0.54801419 -0.5571264  -0.53913208]]\n",
      "     LABEL\n",
      "0        0\n",
      "1        0\n",
      "2        0\n",
      "3        0\n",
      "4        0\n",
      "..     ...\n",
      "445     17\n",
      "446     17\n",
      "447     17\n",
      "448     17\n",
      "449     17\n",
      "\n",
      "[450 rows x 1 columns]\n"
     ]
    }
   ],
   "source": [
    "\n",
    "# selecting the features and labels\n",
    "X = dataset.iloc[:, :-1].values\n",
    "Y = dataset.loc[:, ['LABEL']]\n",
    "\n",
    "print(X)\n",
    "print(Y)\n",
    "\n",
    "from sklearn.metrics import accuracy_score\n",
    "from sklearn.model_selection import train_test_split\n",
    "\n",
    "# splitting the model into training and testing set\n",
    "X_train, X_test, y_train, y_test = train_test_split(X,Y, test_size=0.25, random_state=100)\n"
   ]
  },
  {
   "cell_type": "code",
   "execution_count": 8,
   "id": "b8914853",
   "metadata": {},
   "outputs": [
    {
     "name": "stderr",
     "output_type": "stream",
     "text": [
      "C:\\Users\\PRAMILA\\anaconda3\\lib\\site-packages\\sklearn\\utils\\validation.py:993: DataConversionWarning: A column-vector y was passed when a 1d array was expected. Please change the shape of y to (n_samples, ), for example using ravel().\n",
      "  y = column_or_1d(y, warn=True)\n"
     ]
    },
    {
     "name": "stdout",
     "output_type": "stream",
     "text": [
      "***********************************************************\n",
      "Accuracy = 0.3893805309734513\n",
      "***********************************************************\n"
     ]
    }
   ],
   "source": [
    "\n",
    "# # training a logistics regression model\n",
    "# logmodel = LogisticRegression()\n",
    "# logmodel.fit(X_train, y_train.values.ravel())\n",
    "# predictions = logmodel.predict(X_test)\n",
    "# print(\"***********************************************************\")\n",
    "# print(\"Accuracy = \" + str(accuracy_score(y_test.values.ravel(), predictions)))\n",
    "# print(\"***********************************************************\")\n",
    "\n",
    "sgd_classifier = SGDClassifier(tol=-np.infty, loss='log')\n",
    "sgd_classifier.fit(X_train, y_train)\n",
    "\n",
    "predictions = sgd_classifier.predict(X_test)\n",
    "print(\"***********************************************************\")\n",
    "print(\"Accuracy = \" + str(accuracy_score(y_test.values.ravel(), predictions)))\n",
    "print(\"***********************************************************\")"
   ]
  },
  {
   "cell_type": "code",
   "execution_count": 9,
   "id": "76d1bb37",
   "metadata": {},
   "outputs": [
    {
     "name": "stdout",
     "output_type": "stream",
     "text": [
      "***********************************************************\n",
      "0.8924987695074404\n",
      "***********************************************************\n"
     ]
    }
   ],
   "source": [
    "from sklearn.ensemble import RandomForestRegressor\n",
    " \n",
    " # create regressor object\n",
    "regressor = RandomForestRegressor(n_estimators = 100, random_state = 0)\n",
    " \n",
    "# fit the regressor with x and y data\n",
    "regressor.fit(X_train, y_train.values.ravel())\n",
    "predictions = regressor.predict(X_train)\n",
    "print(\"***********************************************************\")\n",
    "\n",
    "print(regressor.score(X_train, y_train))\n",
    "\n",
    "print(\"***********************************************************\")"
   ]
  },
  {
   "cell_type": "code",
   "execution_count": 10,
   "id": "6f6f4ab3",
   "metadata": {},
   "outputs": [],
   "source": [
    "pickle.dump(regressor, open('randomforest_model.pkl','wb'))"
   ]
  },
  {
   "cell_type": "code",
   "execution_count": 11,
   "id": "f0dca086",
   "metadata": {},
   "outputs": [
    {
     "name": "stdout",
     "output_type": "stream",
     "text": [
      "[3.97]\n",
      "[11.54]\n",
      "Okra\n"
     ]
    }
   ],
   "source": [
    "test_data=[[0,0,144]]\n",
    "print(regressor.predict([[0,42,144]]))\n",
    "\n",
    "# Loading model to compare the results\n",
    "svm_model = pickle.load(open('randomforest_model.pkl','rb'))\n",
    "o=svm_model.predict(test_data)\n",
    "print(o)\n",
    "print(labels[int(o[0])])\n"
   ]
  },
  {
   "cell_type": "code",
   "execution_count": 12,
   "id": "27bfbeab",
   "metadata": {},
   "outputs": [],
   "source": [
    "results = pd.DataFrame(sgd_classifier.predict_proba([[137,42,144]]).transpose())\n",
    "results.rename(columns={0: \"score\"}, inplace=True)\n",
    "\n",
    "results.reset_index(level=0, inplace=True)\n",
    "results.sort_values(by=\"score\", ascending=False, inplace=True, ignore_index=True)\n",
    "\n"
   ]
  },
  {
   "cell_type": "code",
   "execution_count": 13,
   "id": "13920223",
   "metadata": {},
   "outputs": [
    {
     "name": "stdout",
     "output_type": "stream",
     "text": [
      "Watermelon (10%)\n",
      "Brinjal (10%)\n",
      "Carrot (10%)\n",
      "Chilli (10%)\n",
      "Potato (10%)\n",
      "Onion (10%)\n",
      "Lettuce (10%)\n",
      "Tomato (10%)\n",
      "Cauliflower (10%)\n",
      "Garlic (10%)\n"
     ]
    }
   ],
   "source": [
    "for i in range(len(results)):\n",
    "    if results.loc[i, \"score\"] > 0.001:\n",
    "        print(str(labels[results.loc[i, \"index\"]]) + \" (\" + str(round(100 * results.loc[i, \"score\"])) + \"%)\")\n",
    "\n"
   ]
  },
  {
   "cell_type": "code",
   "execution_count": null,
   "id": "45d90aa2",
   "metadata": {},
   "outputs": [],
   "source": []
  },
  {
   "cell_type": "code",
   "execution_count": null,
   "id": "75d2bfb7",
   "metadata": {},
   "outputs": [],
   "source": []
  }
 ],
 "metadata": {
  "kernelspec": {
   "display_name": "Python 3 (ipykernel)",
   "language": "python",
   "name": "python3"
  },
  "language_info": {
   "codemirror_mode": {
    "name": "ipython",
    "version": 3
   },
   "file_extension": ".py",
   "mimetype": "text/x-python",
   "name": "python",
   "nbconvert_exporter": "python",
   "pygments_lexer": "ipython3",
   "version": "3.9.13"
  }
 },
 "nbformat": 4,
 "nbformat_minor": 5
}
