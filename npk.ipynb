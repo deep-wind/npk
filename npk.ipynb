{
 "cells": [
  {
   "cell_type": "code",
   "execution_count": 64,
   "id": "76434530",
   "metadata": {},
   "outputs": [],
   "source": [
    "import numpy as np\n",
    "import pandas as pd\n",
    "\n",
    "import random\n",
    "from sklearn.model_selection import train_test_split\n",
    "from sklearn.linear_model import LogisticRegression\n",
    "from sklearn.linear_model import SGDClassifier\n",
    "\n",
    "from sklearn.preprocessing import LabelEncoder\n",
    "from keras.utils import to_categorical\n",
    "\n",
    "from sklearn.preprocessing import StandardScaler\n",
    "import pickle\n"
   ]
  },
  {
   "cell_type": "code",
   "execution_count": 65,
   "id": "59b3d923",
   "metadata": {},
   "outputs": [
    {
     "data": {
      "text/html": [
       "<div>\n",
       "<style scoped>\n",
       "    .dataframe tbody tr th:only-of-type {\n",
       "        vertical-align: middle;\n",
       "    }\n",
       "\n",
       "    .dataframe tbody tr th {\n",
       "        vertical-align: top;\n",
       "    }\n",
       "\n",
       "    .dataframe thead th {\n",
       "        text-align: right;\n",
       "    }\n",
       "</style>\n",
       "<table border=\"1\" class=\"dataframe\">\n",
       "  <thead>\n",
       "    <tr style=\"text-align: right;\">\n",
       "      <th></th>\n",
       "      <th>N</th>\n",
       "      <th>P</th>\n",
       "      <th>K</th>\n",
       "      <th>LABEL</th>\n",
       "    </tr>\n",
       "  </thead>\n",
       "  <tbody>\n",
       "    <tr>\n",
       "      <th>0</th>\n",
       "      <td>65</td>\n",
       "      <td>50</td>\n",
       "      <td>50</td>\n",
       "      <td>Beans</td>\n",
       "    </tr>\n",
       "    <tr>\n",
       "      <th>1</th>\n",
       "      <td>75</td>\n",
       "      <td>60</td>\n",
       "      <td>80</td>\n",
       "      <td>Beans</td>\n",
       "    </tr>\n",
       "    <tr>\n",
       "      <th>2</th>\n",
       "      <td>88</td>\n",
       "      <td>70</td>\n",
       "      <td>60</td>\n",
       "      <td>Beans</td>\n",
       "    </tr>\n",
       "    <tr>\n",
       "      <th>3</th>\n",
       "      <td>99</td>\n",
       "      <td>80</td>\n",
       "      <td>50</td>\n",
       "      <td>Beans</td>\n",
       "    </tr>\n",
       "    <tr>\n",
       "      <th>4</th>\n",
       "      <td>100</td>\n",
       "      <td>55</td>\n",
       "      <td>70</td>\n",
       "      <td>Beans</td>\n",
       "    </tr>\n",
       "    <tr>\n",
       "      <th>...</th>\n",
       "      <td>...</td>\n",
       "      <td>...</td>\n",
       "      <td>...</td>\n",
       "      <td>...</td>\n",
       "    </tr>\n",
       "    <tr>\n",
       "      <th>65</th>\n",
       "      <td>102</td>\n",
       "      <td>44</td>\n",
       "      <td>79</td>\n",
       "      <td>watermelon</td>\n",
       "    </tr>\n",
       "    <tr>\n",
       "      <th>66</th>\n",
       "      <td>139</td>\n",
       "      <td>45</td>\n",
       "      <td>71</td>\n",
       "      <td>watermelon</td>\n",
       "    </tr>\n",
       "    <tr>\n",
       "      <th>67</th>\n",
       "      <td>129</td>\n",
       "      <td>48</td>\n",
       "      <td>75</td>\n",
       "      <td>watermelon</td>\n",
       "    </tr>\n",
       "    <tr>\n",
       "      <th>68</th>\n",
       "      <td>110</td>\n",
       "      <td>58</td>\n",
       "      <td>76</td>\n",
       "      <td>watermelon</td>\n",
       "    </tr>\n",
       "    <tr>\n",
       "      <th>69</th>\n",
       "      <td>128</td>\n",
       "      <td>59</td>\n",
       "      <td>72</td>\n",
       "      <td>watermelon</td>\n",
       "    </tr>\n",
       "  </tbody>\n",
       "</table>\n",
       "<p>70 rows × 4 columns</p>\n",
       "</div>"
      ],
      "text/plain": [
       "      N   P   K       LABEL\n",
       "0    65  50  50       Beans\n",
       "1    75  60  80       Beans\n",
       "2    88  70  60       Beans\n",
       "3    99  80  50       Beans\n",
       "4   100  55  70       Beans\n",
       "..  ...  ..  ..         ...\n",
       "65  102  44  79  watermelon\n",
       "66  139  45  71  watermelon\n",
       "67  129  48  75  watermelon\n",
       "68  110  58  76  watermelon\n",
       "69  128  59  72  watermelon\n",
       "\n",
       "[70 rows x 4 columns]"
      ]
     },
     "execution_count": 65,
     "metadata": {},
     "output_type": "execute_result"
    }
   ],
   "source": [
    "dataset = pd.read_csv(r\"npk.csv\")\n",
    "dataset"
   ]
  },
  {
   "cell_type": "code",
   "execution_count": 66,
   "id": "bcae44c8",
   "metadata": {},
   "outputs": [
    {
     "data": {
      "text/plain": [
       "['Beans', 'okra', 'onion', 'potato', 'tomato', 'watermelon']"
      ]
     },
     "execution_count": 66,
     "metadata": {},
     "output_type": "execute_result"
    }
   ],
   "source": [
    "labels = dataset['LABEL'].unique().tolist()\n",
    "labels.sort()\n",
    "labels"
   ]
  },
  {
   "cell_type": "code",
   "execution_count": 67,
   "id": "240ef7c9",
   "metadata": {},
   "outputs": [],
   "source": [
    "le = LabelEncoder()\n",
    "le.fit(dataset['LABEL'])\n",
    "dataset['LABEL']=le.transform(dataset['LABEL'])"
   ]
  },
  {
   "cell_type": "code",
   "execution_count": 68,
   "id": "a2355a77",
   "metadata": {},
   "outputs": [
    {
     "data": {
      "text/html": [
       "<div>\n",
       "<style scoped>\n",
       "    .dataframe tbody tr th:only-of-type {\n",
       "        vertical-align: middle;\n",
       "    }\n",
       "\n",
       "    .dataframe tbody tr th {\n",
       "        vertical-align: top;\n",
       "    }\n",
       "\n",
       "    .dataframe thead th {\n",
       "        text-align: right;\n",
       "    }\n",
       "</style>\n",
       "<table border=\"1\" class=\"dataframe\">\n",
       "  <thead>\n",
       "    <tr style=\"text-align: right;\">\n",
       "      <th></th>\n",
       "      <th>N</th>\n",
       "      <th>P</th>\n",
       "      <th>K</th>\n",
       "      <th>LABEL</th>\n",
       "    </tr>\n",
       "  </thead>\n",
       "  <tbody>\n",
       "    <tr>\n",
       "      <th>0</th>\n",
       "      <td>65</td>\n",
       "      <td>50</td>\n",
       "      <td>50</td>\n",
       "      <td>0</td>\n",
       "    </tr>\n",
       "    <tr>\n",
       "      <th>1</th>\n",
       "      <td>75</td>\n",
       "      <td>60</td>\n",
       "      <td>80</td>\n",
       "      <td>0</td>\n",
       "    </tr>\n",
       "    <tr>\n",
       "      <th>2</th>\n",
       "      <td>88</td>\n",
       "      <td>70</td>\n",
       "      <td>60</td>\n",
       "      <td>0</td>\n",
       "    </tr>\n",
       "    <tr>\n",
       "      <th>3</th>\n",
       "      <td>99</td>\n",
       "      <td>80</td>\n",
       "      <td>50</td>\n",
       "      <td>0</td>\n",
       "    </tr>\n",
       "    <tr>\n",
       "      <th>4</th>\n",
       "      <td>100</td>\n",
       "      <td>55</td>\n",
       "      <td>70</td>\n",
       "      <td>0</td>\n",
       "    </tr>\n",
       "    <tr>\n",
       "      <th>...</th>\n",
       "      <td>...</td>\n",
       "      <td>...</td>\n",
       "      <td>...</td>\n",
       "      <td>...</td>\n",
       "    </tr>\n",
       "    <tr>\n",
       "      <th>65</th>\n",
       "      <td>102</td>\n",
       "      <td>44</td>\n",
       "      <td>79</td>\n",
       "      <td>5</td>\n",
       "    </tr>\n",
       "    <tr>\n",
       "      <th>66</th>\n",
       "      <td>139</td>\n",
       "      <td>45</td>\n",
       "      <td>71</td>\n",
       "      <td>5</td>\n",
       "    </tr>\n",
       "    <tr>\n",
       "      <th>67</th>\n",
       "      <td>129</td>\n",
       "      <td>48</td>\n",
       "      <td>75</td>\n",
       "      <td>5</td>\n",
       "    </tr>\n",
       "    <tr>\n",
       "      <th>68</th>\n",
       "      <td>110</td>\n",
       "      <td>58</td>\n",
       "      <td>76</td>\n",
       "      <td>5</td>\n",
       "    </tr>\n",
       "    <tr>\n",
       "      <th>69</th>\n",
       "      <td>128</td>\n",
       "      <td>59</td>\n",
       "      <td>72</td>\n",
       "      <td>5</td>\n",
       "    </tr>\n",
       "  </tbody>\n",
       "</table>\n",
       "<p>70 rows × 4 columns</p>\n",
       "</div>"
      ],
      "text/plain": [
       "      N   P   K  LABEL\n",
       "0    65  50  50      0\n",
       "1    75  60  80      0\n",
       "2    88  70  60      0\n",
       "3    99  80  50      0\n",
       "4   100  55  70      0\n",
       "..  ...  ..  ..    ...\n",
       "65  102  44  79      5\n",
       "66  139  45  71      5\n",
       "67  129  48  75      5\n",
       "68  110  58  76      5\n",
       "69  128  59  72      5\n",
       "\n",
       "[70 rows x 4 columns]"
      ]
     },
     "execution_count": 68,
     "metadata": {},
     "output_type": "execute_result"
    }
   ],
   "source": [
    "dataset"
   ]
  },
  {
   "cell_type": "code",
   "execution_count": 50,
   "id": "257f0522",
   "metadata": {},
   "outputs": [],
   "source": [
    "scaler = StandardScaler()\n",
    "#scaler.fit(X)\n",
    "dataset.iloc[0:,:-1] =scaler.fit_transform(dataset.iloc[0:,:-1]) "
   ]
  },
  {
   "cell_type": "code",
   "execution_count": 69,
   "id": "76269afe",
   "metadata": {},
   "outputs": [
    {
     "name": "stdout",
     "output_type": "stream",
     "text": [
      "[[ 65  50  50]\n",
      " [ 75  60  80]\n",
      " [ 88  70  60]\n",
      " [ 99  80  50]\n",
      " [100  55  70]\n",
      " [110  68  55]\n",
      " [120  78  66]\n",
      " [110  55  60]\n",
      " [103  50  65]\n",
      " [120  58  80]\n",
      " [134  60  75]\n",
      " [140  80  88]\n",
      " [145  75  60]\n",
      " [138  88  55]\n",
      " [150  60  50]\n",
      " [149  75  58]\n",
      " [119  87  60]\n",
      " [140  89  63]\n",
      " [122  66  56]\n",
      " [140  65  80]\n",
      " [156  77  60]\n",
      " [130  78  70]\n",
      " [160  80  64]\n",
      " [179  68  73]\n",
      " [208  78  80]\n",
      " [234  79  77]\n",
      " [256  67  57]\n",
      " [300  74  63]\n",
      " [239  70  73]\n",
      " [220  69  56]\n",
      " [213  68  67]\n",
      " [150  60  81]\n",
      " [113  65 112]\n",
      " [109  68 119]\n",
      " [149  80  85]\n",
      " [178  70  98]\n",
      " [189  78  93]\n",
      " [169  65 102]\n",
      " [120  79 111]\n",
      " [178  74 112]\n",
      " [199  88  98]\n",
      " [138  65  93]\n",
      " [160  67  90]\n",
      " [189  65 100]\n",
      " [167  78  92]\n",
      " [112  66  65]\n",
      " [107  65  78]\n",
      " [108  77  56]\n",
      " [150  66  89]\n",
      " [113  73  72]\n",
      " [109  62  73]\n",
      " [149  64  79]\n",
      " [178  78  73]\n",
      " [155  63  78]\n",
      " [189  76  80]\n",
      " [140  70  75]\n",
      " [189  62  78]\n",
      " [179  78  89]\n",
      " [156  71  50]\n",
      " [120  51  61]\n",
      " [140  60  69]\n",
      " [150  52  80]\n",
      " [130  56  77]\n",
      " [154  54  74]\n",
      " [123  60  63]\n",
      " [102  44  79]\n",
      " [139  45  71]\n",
      " [129  48  75]\n",
      " [110  58  76]\n",
      " [128  59  72]]\n",
      "    LABEL\n",
      "0       0\n",
      "1       0\n",
      "2       0\n",
      "3       0\n",
      "4       0\n",
      "..    ...\n",
      "65      5\n",
      "66      5\n",
      "67      5\n",
      "68      5\n",
      "69      5\n",
      "\n",
      "[70 rows x 1 columns]\n"
     ]
    }
   ],
   "source": [
    "\n",
    "# selecting the features and labels\n",
    "X = dataset.iloc[:, :-1].values\n",
    "Y = dataset.loc[:, ['LABEL']]\n",
    "\n",
    "print(X)\n",
    "print(Y)\n",
    "\n",
    "from sklearn.metrics import accuracy_score\n",
    "from sklearn.model_selection import train_test_split\n",
    "\n",
    "# splitting the model into training and testing set\n",
    "X_train, X_test, y_train, y_test = train_test_split(X,Y, test_size=0.25, random_state=100)\n"
   ]
  },
  {
   "cell_type": "code",
   "execution_count": 70,
   "id": "b8914853",
   "metadata": {},
   "outputs": [
    {
     "name": "stdout",
     "output_type": "stream",
     "text": [
      "***********************************************************\n",
      "Accuracy = 0.2777777777777778\n",
      "***********************************************************\n"
     ]
    },
    {
     "name": "stderr",
     "output_type": "stream",
     "text": [
      "C:\\Users\\PRAMILA\\anaconda3\\lib\\site-packages\\sklearn\\utils\\validation.py:993: DataConversionWarning: A column-vector y was passed when a 1d array was expected. Please change the shape of y to (n_samples, ), for example using ravel().\n",
      "  y = column_or_1d(y, warn=True)\n"
     ]
    }
   ],
   "source": [
    "\n",
    "# # training a logistics regression model\n",
    "# logmodel = LogisticRegression()\n",
    "# logmodel.fit(X_train, y_train.values.ravel())\n",
    "# predictions = logmodel.predict(X_test)\n",
    "# print(\"***********************************************************\")\n",
    "# print(\"Accuracy = \" + str(accuracy_score(y_test.values.ravel(), predictions)))\n",
    "# print(\"***********************************************************\")\n",
    "\n",
    "sgd_classifier = SGDClassifier(tol=-np.infty, loss='log')\n",
    "sgd_classifier.fit(X_train, y_train)\n",
    "\n",
    "predictions = sgd_classifier.predict(X_test)\n",
    "print(\"***********************************************************\")\n",
    "print(\"Accuracy = \" + str(accuracy_score(y_test.values.ravel(), predictions)))\n",
    "print(\"***********************************************************\")"
   ]
  },
  {
   "cell_type": "code",
   "execution_count": 71,
   "id": "76d1bb37",
   "metadata": {},
   "outputs": [
    {
     "name": "stdout",
     "output_type": "stream",
     "text": [
      "***********************************************************\n",
      "0.8696701832669322\n",
      "***********************************************************\n"
     ]
    }
   ],
   "source": [
    "from sklearn.ensemble import RandomForestRegressor\n",
    " \n",
    " # create regressor object\n",
    "regressor = RandomForestRegressor(n_estimators = 100, random_state = 0)\n",
    " \n",
    "# fit the regressor with x and y data\n",
    "regressor.fit(X_train, y_train.values.ravel())\n",
    "predictions = regressor.predict(X_train)\n",
    "print(\"***********************************************************\")\n",
    "\n",
    "print(regressor.score(X_train, y_train))\n",
    "\n",
    "print(\"***********************************************************\")"
   ]
  },
  {
   "cell_type": "code",
   "execution_count": 72,
   "id": "6f6f4ab3",
   "metadata": {},
   "outputs": [],
   "source": [
    "pickle.dump(regressor, open('randomforest_model.pkl','wb'))"
   ]
  },
  {
   "cell_type": "code",
   "execution_count": 73,
   "id": "f0dca086",
   "metadata": {},
   "outputs": [
    {
     "name": "stdout",
     "output_type": "stream",
     "text": [
      "[1.94]\n",
      "[1.94]\n",
      "okra\n"
     ]
    }
   ],
   "source": [
    "test_data=[[0,0,144]]\n",
    "print(regressor.predict([[0,42,144]]))\n",
    "\n",
    "# Loading model to compare the results\n",
    "svm_model = pickle.load(open('randomforest_model.pkl','rb'))\n",
    "o=svm_model.predict(test_data)\n",
    "print(o)\n",
    "print(labels[int(o[0])])\n"
   ]
  },
  {
   "cell_type": "code",
   "execution_count": 42,
   "id": "27bfbeab",
   "metadata": {},
   "outputs": [],
   "source": [
    "results = pd.DataFrame(sgd_classifier.predict_proba([[137,42,144]]).transpose())\n",
    "results.rename(columns={0: \"score\"}, inplace=True)\n",
    "\n",
    "results.reset_index(level=0, inplace=True)\n",
    "results.sort_values(by=\"score\", ascending=False, inplace=True, ignore_index=True)\n",
    "\n"
   ]
  },
  {
   "cell_type": "code",
   "execution_count": 43,
   "id": "13920223",
   "metadata": {},
   "outputs": [
    {
     "name": "stdout",
     "output_type": "stream",
     "text": [
      "onion (33%)\n",
      "potato (33%)\n",
      "watermelon (33%)\n"
     ]
    }
   ],
   "source": [
    "for i in range(len(results)):\n",
    "    if results.loc[i, \"score\"] > 0.001:\n",
    "        print(str(labels[results.loc[i, \"index\"]]) + \" (\" + str(round(100 * results.loc[i, \"score\"])) + \"%)\")\n",
    "\n"
   ]
  },
  {
   "cell_type": "code",
   "execution_count": null,
   "id": "45d90aa2",
   "metadata": {},
   "outputs": [],
   "source": []
  },
  {
   "cell_type": "code",
   "execution_count": null,
   "id": "75d2bfb7",
   "metadata": {},
   "outputs": [],
   "source": []
  }
 ],
 "metadata": {
  "kernelspec": {
   "display_name": "Python 3 (ipykernel)",
   "language": "python",
   "name": "python3"
  },
  "language_info": {
   "codemirror_mode": {
    "name": "ipython",
    "version": 3
   },
   "file_extension": ".py",
   "mimetype": "text/x-python",
   "name": "python",
   "nbconvert_exporter": "python",
   "pygments_lexer": "ipython3",
   "version": "3.9.13"
  }
 },
 "nbformat": 4,
 "nbformat_minor": 5
}
